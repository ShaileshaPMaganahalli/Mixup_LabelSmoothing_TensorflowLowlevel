{
  "nbformat": 4,
  "nbformat_minor": 0,
  "metadata": {
    "colab": {
      "name": "Mixup label smoothing.ipynb",
      "provenance": [],
      "private_outputs": true,
      "collapsed_sections": [],
      "authorship_tag": "ABX9TyP/imvKMiDh1JcgLGR+PDEd",
      "include_colab_link": true
    },
    "kernelspec": {
      "name": "python3",
      "display_name": "Python 3"
    }
  },
  "cells": [
    {
      "cell_type": "markdown",
      "metadata": {
        "id": "view-in-github",
        "colab_type": "text"
      },
      "source": [
        "<a href=\"https://colab.research.google.com/github/srilalithaveerubhotla/Mixup_LabelSmoothing_TensorflowLowlevel/blob/master/Mixup_label_smoothing.ipynb\" target=\"_parent\"><img src=\"https://colab.research.google.com/assets/colab-badge.svg\" alt=\"Open In Colab\"/></a>"
      ]
    },
    {
      "cell_type": "code",
      "metadata": {
        "id": "fOVqd4MJniMz",
        "colab_type": "code",
        "colab": {}
      },
      "source": [
        "#hide\n",
        "!pip install -Uqq fastbook\n",
        "import fastbook\n",
        "fastbook.setup_book()"
      ],
      "execution_count": null,
      "outputs": []
    },
    {
      "cell_type": "code",
      "metadata": {
        "id": "R19jv_gfnwc5",
        "colab_type": "code",
        "colab": {}
      },
      "source": [
        "from fastbook import *"
      ],
      "execution_count": null,
      "outputs": []
    },
    {
      "cell_type": "code",
      "metadata": {
        "id": "oJiHlNRYn2VL",
        "colab_type": "code",
        "colab": {}
      },
      "source": [
        "from fastai.vision.all import *\n",
        "path = untar_data(URLs.IMAGENETTE)"
      ],
      "execution_count": null,
      "outputs": []
    },
    {
      "cell_type": "code",
      "metadata": {
        "id": "4uulPlVBonx3",
        "colab_type": "code",
        "colab": {}
      },
      "source": [
        "#Load the imagenet dataset\n",
        "dblock = DataBlock(blocks=(ImageBlock(), CategoryBlock()),\n",
        "                   get_items=get_image_files,\n",
        "                   get_y=parent_label,\n",
        "                   item_tfms=Resize(460),\n",
        "                   batch_tfms=aug_transforms(size=224, min_scale=0.75))\n",
        "dls = dblock.dataloaders(path, bs=64)"
      ],
      "execution_count": null,
      "outputs": []
    },
    {
      "cell_type": "code",
      "metadata": {
        "id": "4dGJVBJlo2gJ",
        "colab_type": "code",
        "colab": {}
      },
      "source": [
        "# resnet model  \n",
        "model = xresnet50()\n",
        "learn = Learner(dls, model, loss_func=CrossEntropyLossFlat(), metrics=accuracy)\n",
        "learn.fit_one_cycle(5, 3e-3)"
      ],
      "execution_count": null,
      "outputs": []
    },
    {
      "cell_type": "code",
      "metadata": {
        "id": "wIX7H4weo8zb",
        "colab_type": "code",
        "colab": {}
      },
      "source": [
        "# Data Argumentation ----- srilalitha\n",
        "x,y = dls.one_batch()\n",
        "x.mean(dim=[0,2,3]),x.std(dim=[0,2,3])"
      ],
      "execution_count": null,
      "outputs": []
    },
    {
      "cell_type": "code",
      "metadata": {
        "id": "grysh_vBpLff",
        "colab_type": "code",
        "colab": {}
      },
      "source": [
        "def get_dls(bs, size):\n",
        "    dblock = DataBlock(blocks=(ImageBlock, CategoryBlock),\n",
        "                   get_items=get_image_files,\n",
        "                   get_y=parent_label,\n",
        "                   item_tfms=Resize(460),\n",
        "                   batch_tfms=[*aug_transforms(size=size, min_scale=0.75),\n",
        "                               Normalize.from_stats(*imagenet_stats)])\n",
        "    return dblock.dataloaders(path, bs=bs)"
      ],
      "execution_count": null,
      "outputs": []
    },
    {
      "cell_type": "code",
      "metadata": {
        "id": "YMQpMAqEpOnv",
        "colab_type": "code",
        "colab": {}
      },
      "source": [
        "dls = get_dls(64, 224)"
      ],
      "execution_count": null,
      "outputs": []
    },
    {
      "cell_type": "code",
      "metadata": {
        "id": "fCPa4na6pOti",
        "colab_type": "code",
        "colab": {}
      },
      "source": [
        "x,y = dls.one_batch()\n",
        "x.mean(dim=[0,2,3]),x.std(dim=[0,2,3])"
      ],
      "execution_count": null,
      "outputs": []
    },
    {
      "cell_type": "code",
      "metadata": {
        "id": "gu94Wn4GpO3v",
        "colab_type": "code",
        "colab": {}
      },
      "source": [
        "# Resent modelling after data argumentation\n",
        "model = xresnet50()\n",
        "learn = Learner(dls, model, loss_func=CrossEntropyLossFlat(), metrics=accuracy)\n",
        "learn.fit_one_cycle(5, 3e-3)"
      ],
      "execution_count": null,
      "outputs": []
    },
    {
      "cell_type": "code",
      "metadata": {
        "id": "GV6FB9CxpO8-",
        "colab_type": "code",
        "colab": {}
      },
      "source": [
        "# Progressive Resizing\n",
        "\n",
        "dls = get_dls(128, 128)\n",
        "learn = Learner(dls, xresnet50(), loss_func=CrossEntropyLossFlat(), \n",
        "                metrics=accuracy)\n",
        "learn.fit_one_cycle(4, 3e-3)"
      ],
      "execution_count": null,
      "outputs": []
    },
    {
      "cell_type": "code",
      "metadata": {
        "id": "5Wy1X2VipO6t",
        "colab_type": "code",
        "colab": {}
      },
      "source": [
        "learn.dls = get_dls(64, 224)\n",
        "learn.fine_tune(5, 1e-3)"
      ],
      "execution_count": null,
      "outputs": []
    },
    {
      "cell_type": "code",
      "metadata": {
        "id": "92yjzspYpO1Z",
        "colab_type": "code",
        "colab": {}
      },
      "source": [
        "# Test time argumentation\n",
        "\n",
        "preds,targs = learn.tta()\n",
        "accuracy(preds, targs).item()"
      ],
      "execution_count": null,
      "outputs": []
    },
    {
      "cell_type": "code",
      "metadata": {
        "id": "hWwu7uN8pOzZ",
        "colab_type": "code",
        "colab": {}
      },
      "source": [
        "# Mixup example\n",
        "church = PILImage.create(get_image_files_sorted(path/'train'/'n03028079')[0])\n",
        "gas = PILImage.create(get_image_files_sorted(path/'train'/'n03425413')[0])\n",
        "church = church.resize((256,256))\n",
        "gas = gas.resize((256,256))\n",
        "tchurch = tensor(church).float() / 255.\n",
        "tgas = tensor(gas).float() / 255.\n",
        "\n",
        "_,axs = plt.subplots(1, 3, figsize=(12,4))\n",
        "show_image(tchurch, ax=axs[0]);\n",
        "show_image(tgas, ax=axs[1]);\n",
        "show_image((0.3*tchurch + 0.7*tgas), ax=axs[2]);"
      ],
      "execution_count": null,
      "outputs": []
    },
    {
      "cell_type": "code",
      "metadata": {
        "id": "wfAugJzxpOxL",
        "colab_type": "code",
        "colab": {}
      },
      "source": [
        ""
      ],
      "execution_count": null,
      "outputs": []
    }
  ]
}